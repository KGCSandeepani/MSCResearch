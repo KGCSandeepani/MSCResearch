{
 "cells": [
  {
   "cell_type": "markdown",
   "metadata": {},
   "source": [
    "Model Evaluation"
   ]
  },
  {
   "cell_type": "code",
   "execution_count": 407,
   "metadata": {},
   "outputs": [],
   "source": [
    "# Ignore warnings\n",
    "import warnings\n",
    "warnings.filterwarnings('ignore', category = FutureWarning)"
   ]
  },
  {
   "cell_type": "code",
   "execution_count": null,
   "metadata": {},
   "outputs": [
    {
     "name": "stdout",
     "output_type": "stream",
     "text": [
      "                                         Method name  C20  C3  C4  C1  C5  C6  \\\n",
      "0        org.apache.zookeeper.graph.Log4JSource.init    8  52   5  42  10  33   \n",
      "1        org.apache.zookeeper.graph.Log4JSource.main    3  48   7  37  14  31   \n",
      "2  org.apache.zookeeper.graph.RandomAccessFileRea...    2  30   1  29   5  23   \n",
      "3  org.apache.zookeeper.graph.servlets.NumEvents....    3  35   6  29   8  24   \n",
      "4  org.apache.zookeeper.graph.servlets.StaticCont...    4  20   1  18   3  12   \n",
      "\n",
      "   C2  C21  C18  ...  H4  H1  H2  H3       H12  H13  H14  H15  H5  \\\n",
      "0   5   19   32  ...   1   1   0   1  0.019231  0.0  0.0  1.0   1   \n",
      "1   4    7    2  ...   1   2   0   2  0.041667  0.0  0.0  2.0   1   \n",
      "2   0    7   16  ...   1   1   0   1  0.033333  0.0  0.0  1.0   1   \n",
      "3   0   11   12  ...   1   1   0   1  0.028571  0.0  0.0  1.0   1   \n",
      "4   1   12    3  ...   1   3   0   3  0.150000  0.0  0.0  3.0   1   \n",
      "\n",
      "       bug-prone  \n",
      "0  not bug-prone  \n",
      "1      bug-prone  \n",
      "2      bug-prone  \n",
      "3      bug-prone  \n",
      "4      bug-prone  \n",
      "\n",
      "[5 rows x 42 columns]\n"
     ]
    }
   ],
   "source": [
    "# Import pandas libraries\n",
    "import pandas as pd\n",
    "\n",
    "# Load the dataset\n",
    "data = pd.read_csv(\"Data/zookeeper_result.csv\", delimiter=',')\n",
    "\n",
    "# Explore the dataset\n",
    "print(data.head()) \n",
    "\n"
   ]
  },
  {
   "cell_type": "code",
   "execution_count": 409,
   "metadata": {},
   "outputs": [],
   "source": [
    "# copy data\n",
    "data_transform = data.copy()"
   ]
  },
  {
   "cell_type": "code",
   "execution_count": 410,
   "metadata": {},
   "outputs": [
    {
     "name": "stdout",
     "output_type": "stream",
     "text": [
      "                                         Method name  C20  C3  C4  C1  C5  C6  \\\n",
      "0        org.apache.zookeeper.graph.Log4JSource.init    8  52   5  42  10  33   \n",
      "1        org.apache.zookeeper.graph.Log4JSource.main    3  48   7  37  14  31   \n",
      "2  org.apache.zookeeper.graph.RandomAccessFileRea...    2  30   1  29   5  23   \n",
      "3  org.apache.zookeeper.graph.servlets.NumEvents....    3  35   6  29   8  24   \n",
      "4  org.apache.zookeeper.graph.servlets.StaticCont...    4  20   1  18   3  12   \n",
      "\n",
      "   C2  C21  C18  ...  H4  H1  H2  H3       H12  H13  H14  H15  H5  bug-prone  \n",
      "0   5   19   32  ...   1   1   0   1  0.019231  0.0  0.0  1.0   1          0  \n",
      "1   4    7    2  ...   1   2   0   2  0.041667  0.0  0.0  2.0   1          1  \n",
      "2   0    7   16  ...   1   1   0   1  0.033333  0.0  0.0  1.0   1          1  \n",
      "3   0   11   12  ...   1   1   0   1  0.028571  0.0  0.0  1.0   1          1  \n",
      "4   1   12    3  ...   1   3   0   3  0.150000  0.0  0.0  3.0   1          1  \n",
      "\n",
      "[5 rows x 42 columns]\n"
     ]
    }
   ],
   "source": [
    "\n",
    "# Convert 'bug-prone' column to 0 and 1\n",
    "data_transform['bug-prone'] = data_transform['bug-prone'].apply(lambda x: 1 if x.strip() == 'bug-prone' else 0)\n",
    "\n",
    "# Display the updated DataFrame\n",
    "print(data_transform.head()) \n"
   ]
  },
  {
   "cell_type": "code",
   "execution_count": 411,
   "metadata": {},
   "outputs": [
    {
     "name": "stdout",
     "output_type": "stream",
     "text": [
      "(710, 42)\n"
     ]
    }
   ],
   "source": [
    "print(data_transform.shape)"
   ]
  },
  {
   "cell_type": "code",
   "execution_count": 412,
   "metadata": {},
   "outputs": [],
   "source": [
    "\n",
    "# split feature data and target data\n",
    "feature_X = data_transform.drop(columns=['Method name','bug-prone'])\n",
    "y = data_transform['bug-prone']\n",
    "\n"
   ]
  },
  {
   "cell_type": "code",
   "execution_count": null,
   "metadata": {},
   "outputs": [],
   "source": [
    "from imblearn.combine import SMOTETomek\n",
    "from sklearn.preprocessing import StandardScaler\n",
    "\n",
    "# Apply SMOTETomek\n",
    "smote = SMOTETomek(random_state=42)\n",
    "X_resampled, y_resampled = smote.fit_resample(feature_X, y)\n",
    "\n",
    "# Apply StandardScaler\n",
    "scaler = StandardScaler()\n",
    "X_scaled = scaler.fit_transform(X_resampled)\n",
    "\n"
   ]
  },
  {
   "cell_type": "code",
   "execution_count": 414,
   "metadata": {},
   "outputs": [],
   "source": [
    "X = X_scaled\n",
    "y = y_resampled"
   ]
  },
  {
   "cell_type": "code",
   "execution_count": null,
   "metadata": {},
   "outputs": [],
   "source": [
    "from sklearn.model_selection import cross_val_score, cross_validate\n",
    "from sklearn.metrics import make_scorer, precision_score, recall_score, f1_score, accuracy_score\n",
    "\n",
    "from sklearn.ensemble import RandomForestClassifier\n",
    "from sklearn.ensemble import AdaBoostClassifier\n",
    "from sklearn.ensemble import BaggingClassifier\n",
    "from sklearn.tree import DecisionTreeClassifier\n",
    "from sklearn.neighbors import KNeighborsClassifier\n",
    "from sklearn.neural_network import MLPClassifier\n",
    "from sklearn.ensemble import HistGradientBoostingClassifier\n",
    "from xgboost import XGBClassifier\n",
    "from sklearn.svm import SVC\n",
    "from catboost import CatBoostClassifier\n",
    "\n",
    "\n",
    "\n",
    "rf_classifier = RandomForestClassifier(n_estimators=500, max_depth=None, min_samples_split=5, \n",
    "                                       min_samples_leaf=2, class_weight='balanced', random_state=42)\n",
    "ada_classifier = AdaBoostClassifier(n_estimators=100, learning_rate=0.8, random_state=42)\n",
    "bagging_classifier = BaggingClassifier(n_estimators=100, max_samples=0.8, random_state=42)\n",
    "knn_classifier = KNeighborsClassifier(n_neighbors=3, weights='distance', metric='manhattan')\n",
    "mlp_classifier = MLPClassifier(activation='relu', hidden_layer_sizes=(200,100), max_iter=2000, \n",
    "                            learning_rate='adaptive', random_state=42)\n",
    "hgb_classifier = HistGradientBoostingClassifier(random_state=42)  \n",
    "dt_classifier = DecisionTreeClassifier(random_state=42)\n",
    "svm_classifier = SVC(random_state=42, probability=True, C=10, kernel='poly', gamma='scale')\n",
    "xgb_classifier = XGBClassifier(n_estimators=200, learning_rate=0.05, max_depth=4, random_state=42)\n",
    "cb_classifier = CatBoostClassifier(iterations=200, learning_rate=0.05, depth=4, verbose=0, random_state=42)\n",
    "\n"
   ]
  },
  {
   "cell_type": "code",
   "execution_count": null,
   "metadata": {},
   "outputs": [],
   "source": [
    "from sklearn.metrics import (\n",
    "    make_scorer, precision_score, recall_score, f1_score, \n",
    "    matthews_corrcoef, roc_auc_score\n",
    ")\n",
    "\n",
    "# Define custom scorers for cross-validation\n",
    "scoring = {\n",
    "    'accuracy': 'accuracy',\n",
    "    'precision': make_scorer(precision_score, average='binary'),\n",
    "    'recall': make_scorer(recall_score, average='binary'),\n",
    "    'f1': make_scorer(f1_score, average='binary'),\n",
    "    'mcc': make_scorer(matthews_corrcoef),\n",
    "    'auc': make_scorer(roc_auc_score)\n",
    "}\n",
    "\n",
    "# Helper function to display results\n",
    "def print_cv_results(results):\n",
    "    for metric in scoring.keys():\n",
    "        mean = results[f'test_{metric}'].mean()\n",
    "        std = results[f'test_{metric}'].std()\n",
    "        print(f\"{metric.capitalize()}: {mean:.4f}\")\n",
    "\n",
    "# function to perform cross validation\n",
    "def crossvalidate_fun(classifier, X_train, y_train):\n",
    "    cv_results = cross_validate(classifier, X_train, y_train, cv=10, scoring=scoring)\n",
    "    print_cv_results(cv_results)\n",
    "\n"
   ]
  },
  {
   "cell_type": "code",
   "execution_count": 417,
   "metadata": {},
   "outputs": [],
   "source": [
    "import pandas as pd\n",
    "import openpyxl\n",
    "\n",
    "def write_cv_results_to_excel(classifier, column_letter):\n",
    "    file_path = \"test.xlsx\"\n",
    "    \n",
    "    # Load the Excel file using openpyxl (preserves formatting)\n",
    "    wb = openpyxl.load_workbook(file_path)\n",
    "    sheet = wb.active  # Get the first sheet\n",
    "    \n",
    "    # Define the mapping of metrics to row numbers\n",
    "    row_mapping = {\n",
    "        \"accuracy\": 2,\n",
    "        \"precision\": 3,\n",
    "        \"recall\": 4,\n",
    "        \"f1\": 5,\n",
    "        \"mcc\": 6,\n",
    "        \"auc\": 7\n",
    "    }\n",
    "    \n",
    "    # Perform cross-validation\n",
    "    cv_results = cross_validate(classifier, X, y, cv=10, scoring=scoring)\n",
    "    \n",
    "    # Write results to the specified column\n",
    "    for metric, row in row_mapping.items():\n",
    "        mean_value = round(cv_results[f'test_{metric}'].mean(), 4)\n",
    "        sheet[f\"{column_letter}{row}\"] = mean_value  # Write to the correct cell\n",
    "    \n",
    "    # Save the updated Excel file\n",
    "    wb.save(file_path)\n",
    "    print_cv_results(cv_results)\n",
    "    \n"
   ]
  },
  {
   "cell_type": "code",
   "execution_count": 418,
   "metadata": {},
   "outputs": [
    {
     "name": "stdout",
     "output_type": "stream",
     "text": [
      "Accuracy: 0.6918\n",
      "Precision: 0.7069\n",
      "Recall: 0.6917\n",
      "F1: 0.6883\n",
      "Mcc: 0.3943\n",
      "Auc: 0.6917\n"
     ]
    }
   ],
   "source": [
    "# crossvalidate_fun(rf_classifier,X, y)\n",
    "write_cv_results_to_excel(rf_classifier, \"B\")\n"
   ]
  },
  {
   "cell_type": "code",
   "execution_count": 419,
   "metadata": {},
   "outputs": [
    {
     "name": "stdout",
     "output_type": "stream",
     "text": [
      "Accuracy: 0.6871\n",
      "Precision: 0.7058\n",
      "Recall: 0.6576\n",
      "F1: 0.6743\n",
      "Mcc: 0.3823\n",
      "Auc: 0.6872\n"
     ]
    }
   ],
   "source": [
    "# crossvalidate_fun(ada_classifier,X, y)\n",
    "write_cv_results_to_excel(ada_classifier, \"C\")"
   ]
  },
  {
   "cell_type": "code",
   "execution_count": 420,
   "metadata": {},
   "outputs": [
    {
     "name": "stdout",
     "output_type": "stream",
     "text": [
      "Accuracy: 0.6919\n",
      "Precision: 0.7104\n",
      "Recall: 0.6825\n",
      "F1: 0.6836\n",
      "Mcc: 0.3960\n",
      "Auc: 0.6917\n"
     ]
    }
   ],
   "source": [
    "# crossvalidate_fun(bagging_classifier,X, y)\n",
    "write_cv_results_to_excel(bagging_classifier, \"D\")"
   ]
  },
  {
   "cell_type": "code",
   "execution_count": 421,
   "metadata": {},
   "outputs": [
    {
     "name": "stdout",
     "output_type": "stream",
     "text": [
      "Accuracy: 0.6590\n",
      "Precision: 0.6887\n",
      "Recall: 0.5982\n",
      "F1: 0.6302\n",
      "Mcc: 0.3281\n",
      "Auc: 0.6589\n"
     ]
    }
   ],
   "source": [
    "# crossvalidate_fun(knn_classifier,X, y)\n",
    "write_cv_results_to_excel(knn_classifier, \"E\")"
   ]
  },
  {
   "cell_type": "code",
   "execution_count": 422,
   "metadata": {},
   "outputs": [
    {
     "name": "stdout",
     "output_type": "stream",
     "text": [
      "Accuracy: 0.6640\n",
      "Precision: 0.6784\n",
      "Recall: 0.6454\n",
      "F1: 0.6465\n",
      "Mcc: 0.3398\n",
      "Auc: 0.6638\n"
     ]
    }
   ],
   "source": [
    "# crossvalidate_fun(mlp_classifier,X, y)\n",
    "write_cv_results_to_excel(mlp_classifier, \"F\")"
   ]
  },
  {
   "cell_type": "code",
   "execution_count": 423,
   "metadata": {},
   "outputs": [
    {
     "name": "stdout",
     "output_type": "stream",
     "text": [
      "Accuracy: 0.6793\n",
      "Precision: 0.6933\n",
      "Recall: 0.6699\n",
      "F1: 0.6740\n",
      "Mcc: 0.3654\n",
      "Auc: 0.6793\n"
     ]
    }
   ],
   "source": [
    "# crossvalidate_fun(hgb_classifier,X, y)\n",
    "write_cv_results_to_excel(hgb_classifier, \"G\")"
   ]
  },
  {
   "cell_type": "code",
   "execution_count": 424,
   "metadata": {},
   "outputs": [
    {
     "name": "stdout",
     "output_type": "stream",
     "text": [
      "Accuracy: 0.6387\n",
      "Precision: 0.6491\n",
      "Recall: 0.6476\n",
      "F1: 0.6410\n",
      "Mcc: 0.2843\n",
      "Auc: 0.6388\n"
     ]
    }
   ],
   "source": [
    "# crossvalidate_fun(dt_classifier,X, y)\n",
    "write_cv_results_to_excel(dt_classifier, \"H\")"
   ]
  },
  {
   "cell_type": "code",
   "execution_count": 425,
   "metadata": {},
   "outputs": [
    {
     "name": "stdout",
     "output_type": "stream",
     "text": [
      "Accuracy: 0.6638\n",
      "Precision: 0.8467\n",
      "Recall: 0.4151\n",
      "F1: 0.5303\n",
      "Mcc: 0.3861\n",
      "Auc: 0.6638\n"
     ]
    }
   ],
   "source": [
    "# crossvalidate_fun(svm_classifier,X, y)\n",
    "write_cv_results_to_excel(svm_classifier, \"I\")"
   ]
  },
  {
   "cell_type": "code",
   "execution_count": 426,
   "metadata": {},
   "outputs": [
    {
     "name": "stdout",
     "output_type": "stream",
     "text": [
      "Accuracy: 0.6684\n",
      "Precision: 0.6869\n",
      "Recall: 0.6481\n",
      "F1: 0.6557\n",
      "Mcc: 0.3480\n",
      "Auc: 0.6684\n"
     ]
    }
   ],
   "source": [
    "# crossvalidate_fun(xgb_classifier,X, y)\n",
    "write_cv_results_to_excel(xgb_classifier, \"J\")"
   ]
  },
  {
   "cell_type": "code",
   "execution_count": 427,
   "metadata": {},
   "outputs": [
    {
     "name": "stdout",
     "output_type": "stream",
     "text": [
      "Accuracy: 0.6965\n",
      "Precision: 0.7144\n",
      "Recall: 0.6668\n",
      "F1: 0.6813\n",
      "Mcc: 0.4021\n",
      "Auc: 0.6964\n"
     ]
    }
   ],
   "source": [
    "# crossvalidate_fun(cb_classifier,X, y)\n",
    "write_cv_results_to_excel(cb_classifier, \"K\")"
   ]
  },
  {
   "cell_type": "code",
   "execution_count": 428,
   "metadata": {},
   "outputs": [],
   "source": [
    "models = {\n",
    "    \n",
    "    \"RandomForest\" :  RandomForestClassifier(n_estimators=500, max_depth=None, min_samples_split=5, \n",
    "                                       min_samples_leaf=2, class_weight='balanced', random_state=42),\n",
    "    \"AdaBoostClassifier\" : AdaBoostClassifier(n_estimators=100, learning_rate=0.8, random_state=42),\n",
    "    \"BaggingClassifier\" : BaggingClassifier(n_estimators=100, max_samples=0.8, random_state=42),\n",
    "    \"KNeighborsClassifier\" : KNeighborsClassifier(n_neighbors=3, weights='distance', metric='manhattan'),\n",
    "    \"MLPClassifier\" : MLPClassifier(activation='relu', hidden_layer_sizes=(200,100), max_iter=2000, \n",
    "                               learning_rate='adaptive', random_state=42),\n",
    "    \"HistGradientBoostingClassifier\" : HistGradientBoostingClassifier(random_state=42),   \n",
    "    \"DecisionTreeClassifier\" : DecisionTreeClassifier(random_state=42),\n",
    "    \"SVC\" : SVC(random_state=42, probability=True, C=10, kernel='poly', gamma='scale'),\n",
    "    \"XGBoost\": XGBClassifier(n_estimators=200, learning_rate=0.05, max_depth=4, random_state=42),\n",
    "    \"CatBoost\": CatBoostClassifier(iterations=200, learning_rate=0.05, depth=4, verbose=0, random_state=42)\n",
    "}"
   ]
  },
  {
   "cell_type": "code",
   "execution_count": null,
   "metadata": {},
   "outputs": [
    {
     "name": "stdout",
     "output_type": "stream",
     "text": [
      "Final 10-Fold CV Results:\n",
      "Accuracy: 0.7789\n",
      "Precision: 0.7451\n",
      "Recall: 0.8877\n",
      "F1-Score: 0.8044\n",
      "MCC: 0.5781\n",
      "AUC: 0.8532\n"
     ]
    }
   ],
   "source": [
    "import numpy as np\n",
    "from sklearn.model_selection import StratifiedKFold\n",
    "\n",
    "# Initialize cross-validation\n",
    "kf = StratifiedKFold(n_splits=10, shuffle=True, random_state=42)\n",
    "\n",
    "# Store metrics\n",
    "accuracy_scores, precision_scores, recall_scores, f1_scores, mcc_scores, auc_scores = [], [], [], [], [], []\n",
    "\n",
    "# Perform 10-Fold Cross-Validation\n",
    "for train_index, test_index in kf.split(X, y):\n",
    "    X_train, X_test = X[train_index], X[test_index]\n",
    "    y_train, y_test = y.iloc[train_index], y.iloc[test_index]\n",
    "\n",
    "    probabilities = []\n",
    "    max_scores = []\n",
    "    \n",
    "    # Train all models and get probabilities\n",
    "    for name, model in models.items():\n",
    "        model.fit(X_train, y_train)\n",
    "        y_pred_proba = model.predict_proba(X_test)[:, 1]  # Probability for class 1\n",
    "        probabilities.append(y_pred_proba)\n",
    "        max_scores.append(roc_auc_score(y_test, y_pred_proba))\n",
    "    \n",
    "    # Normalize AUC scores to get weights\n",
    "    weights = [score / sum(max_scores) for score in max_scores]\n",
    "\n",
    "    combined_probs = np.sum([weight * probs for weight, probs in zip(weights, probabilities)], axis=0)\n",
    "\n",
    "    # Determine best threshold using precision-recall\n",
    "    from sklearn.metrics import precision_recall_curve\n",
    "\n",
    "    def get_best_threshold_precision_recall(y_true, y_proba):\n",
    "        precision, recall, thresholds = precision_recall_curve(y_true, y_proba)\n",
    "        f1_scores = np.where((precision + recall) == 0, 0, 2 * (precision * recall) / (precision + recall))\n",
    "        best_threshold = thresholds[np.argmax(f1_scores[:-1])]\n",
    "        return best_threshold\n",
    "\n",
    "    best_threshold_pr = get_best_threshold_precision_recall(y_test, combined_probs)\n",
    "\n",
    "    # Convert probabilities to binary predictions using threshold\n",
    "    predictions = (combined_probs > best_threshold_pr).astype(int)\n",
    "\n",
    "    # Compute performance metrics\n",
    "    accuracy_scores.append(accuracy_score(y_test, predictions))\n",
    "    precision_scores.append(precision_score(y_test, predictions))\n",
    "    recall_scores.append(recall_score(y_test, predictions))\n",
    "    f1_scores.append(f1_score(y_test, predictions))\n",
    "    mcc_scores.append(matthews_corrcoef(y_test, predictions))\n",
    "    auc_scores.append(roc_auc_score(y_test, combined_probs))\n",
    "\n",
    "# Print final results (average over 10 folds)\n",
    "print(f\"Final 10-Fold CV Results:\")\n",
    "print(f\"Accuracy: {np.mean(accuracy_scores):.4f}\")\n",
    "print(f\"Precision: {np.mean(precision_scores):.4f}\")\n",
    "print(f\"Recall: {np.mean(recall_scores):.4f}\")\n",
    "print(f\"F1-Score: {np.mean(f1_scores):.4f}\")\n",
    "print(f\"MCC: {np.mean(mcc_scores):.4f}\")\n",
    "print(f\"AUC: {np.mean(auc_scores):.4f}\")\n",
    "\n"
   ]
  }
 ],
 "metadata": {
  "kernelspec": {
   "display_name": "base",
   "language": "python",
   "name": "python3"
  },
  "language_info": {
   "codemirror_mode": {
    "name": "ipython",
    "version": 3
   },
   "file_extension": ".py",
   "mimetype": "text/x-python",
   "name": "python",
   "nbconvert_exporter": "python",
   "pygments_lexer": "ipython3",
   "version": "3.10.9"
  }
 },
 "nbformat": 4,
 "nbformat_minor": 2
}
